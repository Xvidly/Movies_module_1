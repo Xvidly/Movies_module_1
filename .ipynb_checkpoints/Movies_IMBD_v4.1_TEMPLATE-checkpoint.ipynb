{
 "cells": [
  {
   "cell_type": "code",
   "execution_count": 1,
   "metadata": {
    "_cell_guid": "b1076dfc-b9ad-4769-8c92-a6c4dae69d19",
    "_uuid": "8f2839f25d086af736a60e9eeb907d3b93b6e0e5",
    "colab": {},
    "colab_type": "code",
    "id": "U2D2gTdJVp90"
   },
   "outputs": [],
   "source": [
    "import numpy as np\n",
    "import pandas as pd\n",
    "import seaborn as sns\n",
    "import matplotlib.pyplot as plt\n",
    "from collections import Counter"
   ]
  },
  {
   "cell_type": "code",
   "execution_count": 2,
   "metadata": {
    "_cell_guid": "79c7e3d0-c299-4dcb-8224-4455121ee9b0",
    "_uuid": "d629ff2d2480ee46fbb7e2d37f6b5fab8052498a",
    "colab": {},
    "colab_type": "code",
    "id": "oyGfxL3eVp9-"
   },
   "outputs": [
    {
     "data": {
      "text/html": [
       "<div>\n",
       "<style scoped>\n",
       "    .dataframe tbody tr th:only-of-type {\n",
       "        vertical-align: middle;\n",
       "    }\n",
       "\n",
       "    .dataframe tbody tr th {\n",
       "        vertical-align: top;\n",
       "    }\n",
       "\n",
       "    .dataframe thead th {\n",
       "        text-align: right;\n",
       "    }\n",
       "</style>\n",
       "<table border=\"1\" class=\"dataframe\">\n",
       "  <thead>\n",
       "    <tr style=\"text-align: right;\">\n",
       "      <th></th>\n",
       "      <th>imdb_id</th>\n",
       "      <th>budget</th>\n",
       "      <th>revenue</th>\n",
       "      <th>original_title</th>\n",
       "      <th>cast</th>\n",
       "      <th>director</th>\n",
       "      <th>tagline</th>\n",
       "      <th>overview</th>\n",
       "      <th>runtime</th>\n",
       "      <th>genres</th>\n",
       "      <th>production_companies</th>\n",
       "      <th>release_date</th>\n",
       "      <th>vote_average</th>\n",
       "      <th>release_year</th>\n",
       "    </tr>\n",
       "  </thead>\n",
       "  <tbody>\n",
       "    <tr>\n",
       "      <th>1190</th>\n",
       "      <td>tt1408101</td>\n",
       "      <td>190000000</td>\n",
       "      <td>467365246</td>\n",
       "      <td>Star Trek Into Darkness</td>\n",
       "      <td>Chris Pine|Zachary Quinto|Zoe Saldana|Karl Urb...</td>\n",
       "      <td>J.J. Abrams</td>\n",
       "      <td>Earth Will Fall</td>\n",
       "      <td>When the crew of the Enterprise is called back...</td>\n",
       "      <td>132</td>\n",
       "      <td>Action|Adventure|Science Fiction</td>\n",
       "      <td>Paramount Pictures|Skydance Productions|Bad Ro...</td>\n",
       "      <td>5/5/2013</td>\n",
       "      <td>7.4</td>\n",
       "      <td>2013</td>\n",
       "    </tr>\n",
       "    <tr>\n",
       "      <th>887</th>\n",
       "      <td>tt0280590</td>\n",
       "      <td>50000000</td>\n",
       "      <td>171269535</td>\n",
       "      <td>Mr. Deeds</td>\n",
       "      <td>Adam Sandler|Winona Ryder|John Turturro|Allen ...</td>\n",
       "      <td>Steven Brill</td>\n",
       "      <td>Small town kid, big time right hook.</td>\n",
       "      <td>When Longfellow Deeds, a small-town pizzeria o...</td>\n",
       "      <td>96</td>\n",
       "      <td>Comedy|Romance</td>\n",
       "      <td>New Line Cinema|Columbia Pictures Corporation|...</td>\n",
       "      <td>6/28/2002</td>\n",
       "      <td>5.7</td>\n",
       "      <td>2002</td>\n",
       "    </tr>\n",
       "    <tr>\n",
       "      <th>469</th>\n",
       "      <td>tt1273678</td>\n",
       "      <td>28000000</td>\n",
       "      <td>45236543</td>\n",
       "      <td>The Spy Next Door</td>\n",
       "      <td>Amber Valletta|Lucas Till|Jackie Chan|Billy Ra...</td>\n",
       "      <td>Brian Levant</td>\n",
       "      <td>Spying is easy, Babysitting is hard</td>\n",
       "      <td>Former CIA spy Bob Ho takes on his toughest as...</td>\n",
       "      <td>94</td>\n",
       "      <td>Action|Comedy|Family</td>\n",
       "      <td>Robert Simonds Productions|Relativity Media|Sp...</td>\n",
       "      <td>1/15/2010</td>\n",
       "      <td>5.4</td>\n",
       "      <td>2010</td>\n",
       "    </tr>\n",
       "    <tr>\n",
       "      <th>1577</th>\n",
       "      <td>tt0318627</td>\n",
       "      <td>45000000</td>\n",
       "      <td>129394835</td>\n",
       "      <td>Resident Evil: Apocalypse</td>\n",
       "      <td>Milla Jovovich|Sienna Guillory|Oded Fehr|Thoma...</td>\n",
       "      <td>Alexander Witt</td>\n",
       "      <td>You're all going to die.</td>\n",
       "      <td>As the city is locked down under quarantine, A...</td>\n",
       "      <td>94</td>\n",
       "      <td>Horror|Action|Science Fiction</td>\n",
       "      <td>Impact Pictures|Constantin Film Ltd.</td>\n",
       "      <td>9/10/2004</td>\n",
       "      <td>6.1</td>\n",
       "      <td>2004</td>\n",
       "    </tr>\n",
       "    <tr>\n",
       "      <th>14</th>\n",
       "      <td>tt2395427</td>\n",
       "      <td>280000000</td>\n",
       "      <td>1405035767</td>\n",
       "      <td>Avengers: Age of Ultron</td>\n",
       "      <td>Robert Downey Jr.|Chris Hemsworth|Mark Ruffalo...</td>\n",
       "      <td>Joss Whedon</td>\n",
       "      <td>A New Age Has Come.</td>\n",
       "      <td>When Tony Stark tries to jumpstart a dormant p...</td>\n",
       "      <td>141</td>\n",
       "      <td>Action|Adventure|Science Fiction</td>\n",
       "      <td>Marvel Studios|Prime Focus|Revolution Sun Studios</td>\n",
       "      <td>4/22/2015</td>\n",
       "      <td>7.4</td>\n",
       "      <td>2015</td>\n",
       "    </tr>\n",
       "  </tbody>\n",
       "</table>\n",
       "</div>"
      ],
      "text/plain": [
       "        imdb_id     budget     revenue             original_title  \\\n",
       "1190  tt1408101  190000000   467365246    Star Trek Into Darkness   \n",
       "887   tt0280590   50000000   171269535                  Mr. Deeds   \n",
       "469   tt1273678   28000000    45236543          The Spy Next Door   \n",
       "1577  tt0318627   45000000   129394835  Resident Evil: Apocalypse   \n",
       "14    tt2395427  280000000  1405035767    Avengers: Age of Ultron   \n",
       "\n",
       "                                                   cast        director  \\\n",
       "1190  Chris Pine|Zachary Quinto|Zoe Saldana|Karl Urb...     J.J. Abrams   \n",
       "887   Adam Sandler|Winona Ryder|John Turturro|Allen ...    Steven Brill   \n",
       "469   Amber Valletta|Lucas Till|Jackie Chan|Billy Ra...    Brian Levant   \n",
       "1577  Milla Jovovich|Sienna Guillory|Oded Fehr|Thoma...  Alexander Witt   \n",
       "14    Robert Downey Jr.|Chris Hemsworth|Mark Ruffalo...     Joss Whedon   \n",
       "\n",
       "                                   tagline  \\\n",
       "1190                       Earth Will Fall   \n",
       "887   Small town kid, big time right hook.   \n",
       "469    Spying is easy, Babysitting is hard   \n",
       "1577              You're all going to die.   \n",
       "14                     A New Age Has Come.   \n",
       "\n",
       "                                               overview  runtime  \\\n",
       "1190  When the crew of the Enterprise is called back...      132   \n",
       "887   When Longfellow Deeds, a small-town pizzeria o...       96   \n",
       "469   Former CIA spy Bob Ho takes on his toughest as...       94   \n",
       "1577  As the city is locked down under quarantine, A...       94   \n",
       "14    When Tony Stark tries to jumpstart a dormant p...      141   \n",
       "\n",
       "                                genres  \\\n",
       "1190  Action|Adventure|Science Fiction   \n",
       "887                     Comedy|Romance   \n",
       "469               Action|Comedy|Family   \n",
       "1577     Horror|Action|Science Fiction   \n",
       "14    Action|Adventure|Science Fiction   \n",
       "\n",
       "                                   production_companies release_date  \\\n",
       "1190  Paramount Pictures|Skydance Productions|Bad Ro...     5/5/2013   \n",
       "887   New Line Cinema|Columbia Pictures Corporation|...    6/28/2002   \n",
       "469   Robert Simonds Productions|Relativity Media|Sp...    1/15/2010   \n",
       "1577               Impact Pictures|Constantin Film Ltd.    9/10/2004   \n",
       "14    Marvel Studios|Prime Focus|Revolution Sun Studios    4/22/2015   \n",
       "\n",
       "      vote_average  release_year  \n",
       "1190           7.4          2013  \n",
       "887            5.7          2002  \n",
       "469            5.4          2010  \n",
       "1577           6.1          2004  \n",
       "14             7.4          2015  "
      ]
     },
     "execution_count": 2,
     "metadata": {},
     "output_type": "execute_result"
    }
   ],
   "source": [
    "data = pd.read_csv('movie_bd_v5.xls')\n",
    "data.sample(5)"
   ]
  },
  {
   "cell_type": "code",
   "execution_count": 24,
   "metadata": {
    "colab": {},
    "colab_type": "code",
    "id": "CoYUnagMVp-C"
   },
   "outputs": [
    {
     "data": {
      "text/html": [
       "<div>\n",
       "<style scoped>\n",
       "    .dataframe tbody tr th:only-of-type {\n",
       "        vertical-align: middle;\n",
       "    }\n",
       "\n",
       "    .dataframe tbody tr th {\n",
       "        vertical-align: top;\n",
       "    }\n",
       "\n",
       "    .dataframe thead th {\n",
       "        text-align: right;\n",
       "    }\n",
       "</style>\n",
       "<table border=\"1\" class=\"dataframe\">\n",
       "  <thead>\n",
       "    <tr style=\"text-align: right;\">\n",
       "      <th></th>\n",
       "      <th>budget</th>\n",
       "      <th>revenue</th>\n",
       "      <th>runtime</th>\n",
       "      <th>vote_average</th>\n",
       "      <th>release_year</th>\n",
       "    </tr>\n",
       "  </thead>\n",
       "  <tbody>\n",
       "    <tr>\n",
       "      <th>count</th>\n",
       "      <td>1.889000e+03</td>\n",
       "      <td>1.889000e+03</td>\n",
       "      <td>1889.000000</td>\n",
       "      <td>1889.000000</td>\n",
       "      <td>1889.000000</td>\n",
       "    </tr>\n",
       "    <tr>\n",
       "      <th>mean</th>\n",
       "      <td>5.431083e+07</td>\n",
       "      <td>1.553653e+08</td>\n",
       "      <td>109.658549</td>\n",
       "      <td>6.140762</td>\n",
       "      <td>2007.860773</td>\n",
       "    </tr>\n",
       "    <tr>\n",
       "      <th>std</th>\n",
       "      <td>4.858721e+07</td>\n",
       "      <td>2.146698e+08</td>\n",
       "      <td>18.017041</td>\n",
       "      <td>0.764763</td>\n",
       "      <td>4.468841</td>\n",
       "    </tr>\n",
       "    <tr>\n",
       "      <th>min</th>\n",
       "      <td>5.000000e+06</td>\n",
       "      <td>2.033165e+06</td>\n",
       "      <td>63.000000</td>\n",
       "      <td>3.300000</td>\n",
       "      <td>2000.000000</td>\n",
       "    </tr>\n",
       "    <tr>\n",
       "      <th>25%</th>\n",
       "      <td>2.000000e+07</td>\n",
       "      <td>3.456058e+07</td>\n",
       "      <td>97.000000</td>\n",
       "      <td>5.600000</td>\n",
       "      <td>2004.000000</td>\n",
       "    </tr>\n",
       "    <tr>\n",
       "      <th>50%</th>\n",
       "      <td>3.800000e+07</td>\n",
       "      <td>8.361541e+07</td>\n",
       "      <td>107.000000</td>\n",
       "      <td>6.100000</td>\n",
       "      <td>2008.000000</td>\n",
       "    </tr>\n",
       "    <tr>\n",
       "      <th>75%</th>\n",
       "      <td>7.200000e+07</td>\n",
       "      <td>1.782626e+08</td>\n",
       "      <td>120.000000</td>\n",
       "      <td>6.600000</td>\n",
       "      <td>2012.000000</td>\n",
       "    </tr>\n",
       "    <tr>\n",
       "      <th>max</th>\n",
       "      <td>3.800000e+08</td>\n",
       "      <td>2.781506e+09</td>\n",
       "      <td>214.000000</td>\n",
       "      <td>8.100000</td>\n",
       "      <td>2015.000000</td>\n",
       "    </tr>\n",
       "  </tbody>\n",
       "</table>\n",
       "</div>"
      ],
      "text/plain": [
       "             budget       revenue      runtime  vote_average  release_year\n",
       "count  1.889000e+03  1.889000e+03  1889.000000   1889.000000   1889.000000\n",
       "mean   5.431083e+07  1.553653e+08   109.658549      6.140762   2007.860773\n",
       "std    4.858721e+07  2.146698e+08    18.017041      0.764763      4.468841\n",
       "min    5.000000e+06  2.033165e+06    63.000000      3.300000   2000.000000\n",
       "25%    2.000000e+07  3.456058e+07    97.000000      5.600000   2004.000000\n",
       "50%    3.800000e+07  8.361541e+07   107.000000      6.100000   2008.000000\n",
       "75%    7.200000e+07  1.782626e+08   120.000000      6.600000   2012.000000\n",
       "max    3.800000e+08  2.781506e+09   214.000000      8.100000   2015.000000"
      ]
     },
     "execution_count": 24,
     "metadata": {},
     "output_type": "execute_result"
    }
   ],
   "source": [
    "data.describe()"
   ]
  },
  {
   "cell_type": "markdown",
   "metadata": {
    "colab_type": "text",
    "id": "DTIt7ezGVp-G"
   },
   "source": [
    "# Предобработка"
   ]
  },
  {
   "cell_type": "code",
   "execution_count": 153,
   "metadata": {
    "colab": {},
    "colab_type": "code",
    "id": "jNb40DwKVp-H"
   },
   "outputs": [],
   "source": [
    "answers = {} # создадим словарь для ответов\n",
    "\n",
    "# тут другие ваши предобработки колонок например:\n",
    "\n",
    "#the time given in the dataset is in string format.\n",
    "#So we need to change this in datetime format\n",
    "# ...\n",
    "\n",
    "month_names = {\n",
    "    1: 'Январь',\n",
    "    2: 'Февраль',\n",
    "    3: 'Март',\n",
    "    4: 'Апрель',\n",
    "    5: 'Май',\n",
    "    6: 'Июнь',\n",
    "    7: 'Июль',\n",
    "    8: 'Август',\n",
    "    9: 'Сентябрь',\n",
    "    10: 'Октябрь',\n",
    "    11: 'Ноябрь',\n",
    "    12: 'Декабрь'\n",
    "}\n",
    "\n",
    "\n",
    "def count_words(text, delimiters):\n",
    "    words_count = 0\n",
    "    previous_delimiter = True\n",
    "    for symbol in text:\n",
    "        current_delimiter = symbol in delimiters\n",
    "        if previous_delimiter and not current_delimiter:\n",
    "            words_count += 1\n",
    "        previous_delimiter = current_delimiter\n",
    "    return words_count\n",
    "\n",
    "\n",
    "data['title'] = data['original_title'] + ' (' + data['imdb_id'] + ')'\n",
    "data['profit'] = data['revenue'] - data['budget']\n",
    "data['release_month'] = data['release_date'].apply(lambda month: int(month[:month.find('/')]))\n",
    "data['title_length'] = data['original_title'].str.len()\n",
    "data['overview_count'] = data['overview'].apply(count_words, delimiters=' ,.!?')"
   ]
  },
  {
   "cell_type": "markdown",
   "metadata": {
    "colab_type": "text",
    "id": "YxZaH-nPVp-L"
   },
   "source": [
    "# 1. У какого фильма из списка самый большой бюджет?"
   ]
  },
  {
   "cell_type": "markdown",
   "metadata": {
    "colab_type": "text",
    "id": "Nd-G5gX6Vp-M"
   },
   "source": [
    "Использовать варианты ответов в коде решения запрещено.    \n",
    "Вы думаете и в жизни у вас будут варианты ответов?)"
   ]
  },
  {
   "cell_type": "code",
   "execution_count": 19,
   "metadata": {
    "colab": {},
    "colab_type": "code",
    "id": "uVnXAY5RVp-O"
   },
   "outputs": [],
   "source": [
    "# в словарь вставляем номер вопроса и ваш ответ на него\n",
    "# Пример: \n",
    "answers['1'] = '2. Spider-Man 3 (tt0413300)'\n",
    "# запишите свой вариант ответа\n",
    "answers['1'] = '...'\n",
    "# если ответили верно, можете добавить комментарий со значком \"+\""
   ]
  },
  {
   "cell_type": "code",
   "execution_count": 5,
   "metadata": {
    "colab": {},
    "colab_type": "code",
    "id": "dZwb3m28Vp-S"
   },
   "outputs": [
    {
     "data": {
      "text/plain": [
       "budget\n",
       "5000000                                       Wonderland\n",
       "5500000                                   Predestination\n",
       "6000000                              We Are Your Friends\n",
       "6400000                                       Young Adam\n",
       "6500000                                      The Pyramid\n",
       "                                ...                     \n",
       "258000000                                   Spider-Man 3\n",
       "260000000                                        Tangled\n",
       "280000000                        Avengers: Age of Ultron\n",
       "300000000       Pirates of the Caribbean: At World's End\n",
       "380000000    Pirates of the Caribbean: On Stranger Tides\n",
       "Name: original_title, Length: 203, dtype: object"
      ]
     },
     "metadata": {},
     "output_type": "display_data"
    }
   ],
   "source": [
    "# тут пишем ваш код для решения данного вопроса:\n",
    "answers['1']  = data.groupby(['budget'])['original_title'].max()\n",
    "display(answers['1'])"
   ]
  },
  {
   "cell_type": "markdown",
   "metadata": {
    "colab_type": "text",
    "id": "K7L3nbRXVp-X"
   },
   "source": [
    "ВАРИАНТ 2"
   ]
  },
  {
   "cell_type": "code",
   "execution_count": 0,
   "metadata": {
    "colab": {},
    "colab_type": "code",
    "id": "OGaoQI7rVp-X"
   },
   "outputs": [],
   "source": [
    "# можно добавлять разные варианты решения"
   ]
  },
  {
   "cell_type": "markdown",
   "metadata": {
    "colab_type": "text",
    "id": "FNRbbI3vVp-c"
   },
   "source": [
    "# 2. Какой из фильмов самый длительный (в минутах)?"
   ]
  },
  {
   "cell_type": "code",
   "execution_count": 0,
   "metadata": {
    "colab": {},
    "colab_type": "code",
    "id": "vHAoEXNTVp-d"
   },
   "outputs": [],
   "source": [
    "# думаю логику работы с этим словарем вы уже поняли, \n",
    "# по этому не буду больше его дублировать\n",
    "answers['2'] = '...'"
   ]
  },
  {
   "cell_type": "code",
   "execution_count": 48,
   "metadata": {
    "colab": {},
    "colab_type": "code",
    "id": "ot-VX2XrVp-g"
   },
   "outputs": [
    {
     "data": {
      "text/plain": [
       "runtime\n",
       "63                                   Winnie the Pooh\n",
       "72                                 The Jungle Book 2\n",
       "76                                           Valiant\n",
       "77                                      Corpse Bride\n",
       "78                          The Emperor's New Groove\n",
       "                           ...                      \n",
       "183                                     Pearl Harbor\n",
       "187                                        King Kong\n",
       "191                                       Grindhouse\n",
       "201    The Lord of the Rings: The Return of the King\n",
       "214                                Gods and Generals\n",
       "Name: original_title, Length: 105, dtype: object"
      ]
     },
     "metadata": {},
     "output_type": "display_data"
    }
   ],
   "source": [
    "answers['2'] = data.groupby(['runtime'])['original_title'].max()\n",
    "display(answers['2'])"
   ]
  },
  {
   "cell_type": "markdown",
   "metadata": {
    "colab_type": "text",
    "id": "bapLlpW8Vp-k"
   },
   "source": [
    "# 3. Какой из фильмов самый короткий (в минутах)?\n",
    "\n",
    "\n",
    "\n"
   ]
  },
  {
   "cell_type": "code",
   "execution_count": 49,
   "metadata": {
    "colab": {},
    "colab_type": "code",
    "id": "YBxaSHuAVp-l"
   },
   "outputs": [
    {
     "data": {
      "text/plain": [
       "runtime\n",
       "63                                   Winnie the Pooh\n",
       "72                              Return to Never Land\n",
       "76                                 Home on the Range\n",
       "77                                      Corpse Bride\n",
       "78                                   Stuart Little 2\n",
       "                           ...                      \n",
       "183                                     Pearl Harbor\n",
       "187                                        King Kong\n",
       "191                                       Grindhouse\n",
       "201    The Lord of the Rings: The Return of the King\n",
       "214                                Gods and Generals\n",
       "Name: original_title, Length: 105, dtype: object"
      ]
     },
     "metadata": {},
     "output_type": "display_data"
    }
   ],
   "source": [
    "answers['3'] = data.groupby(['runtime'])['original_title'].min()\n",
    "display(answers['3'])"
   ]
  },
  {
   "cell_type": "markdown",
   "metadata": {
    "colab_type": "text",
    "id": "TfQbxbfNVp-p"
   },
   "source": [
    "# 4. Какова средняя длительность фильмов?\n"
   ]
  },
  {
   "cell_type": "code",
   "execution_count": 64,
   "metadata": {
    "colab": {},
    "colab_type": "code",
    "id": "5K6dKZYVVp-q"
   },
   "outputs": [
    {
     "data": {
      "text/plain": [
       "110"
      ]
     },
     "execution_count": 64,
     "metadata": {},
     "output_type": "execute_result"
    }
   ],
   "source": [
    "answers['4'] = data['runtime'].mean()\n",
    "round(answers['4'])"
   ]
  },
  {
   "cell_type": "markdown",
   "metadata": {
    "colab_type": "text",
    "id": "r5TvbnT_Vp-u"
   },
   "source": [
    "# 5. Каково медианное значение длительности фильмов? "
   ]
  },
  {
   "cell_type": "code",
   "execution_count": 65,
   "metadata": {
    "colab": {},
    "colab_type": "code",
    "id": "iBROplKnVp-v"
   },
   "outputs": [
    {
     "data": {
      "text/plain": [
       "107"
      ]
     },
     "execution_count": 65,
     "metadata": {},
     "output_type": "execute_result"
    }
   ],
   "source": [
    "answers['5'] = data['runtime'].median()\n",
    "round(answers['5'])"
   ]
  },
  {
   "cell_type": "markdown",
   "metadata": {
    "colab_type": "text",
    "id": "39P-deDSVp-y"
   },
   "source": [
    "# 6. Какой самый прибыльный фильм?\n",
    "#### Внимание! Здесь и далее под «прибылью» или «убытками» понимается разность между сборами и бюджетом фильма. (прибыль = сборы - бюджет) в нашем датасете это будет (profit = revenue - budget) "
   ]
  },
  {
   "cell_type": "code",
   "execution_count": 87,
   "metadata": {
    "colab": {},
    "colab_type": "code",
    "id": "UYZh4T9WVp-y"
   },
   "outputs": [
    {
     "data": {
      "text/plain": [
       "profit\n",
       "-165710090                  The Lone Ranger\n",
       "-119180039                        The Alamo\n",
       "-111007242                  Mars Needs Moms\n",
       "-92896027      The Adventures of Pluto Nash\n",
       "-84540684                      Flushed Away\n",
       "                           ...             \n",
       " 1299557910                    The Avengers\n",
       " 1316249360                       Furious 7\n",
       " 1363528810                  Jurassic World\n",
       " 1868178225    Star Wars: The Force Awakens\n",
       " 2544505847                          Avatar\n",
       "Name: original_title, Length: 1881, dtype: object"
      ]
     },
     "metadata": {},
     "output_type": "display_data"
    }
   ],
   "source": [
    "# лучше код получения столбца profit вынести в Предобработку что в начале\n",
    "profit = []\n",
    "data['profit'] = data['revenue'] - data['budget']\n",
    "answers['6'] = data.groupby(['profit'])['original_title'].max()\n",
    "display(answers['6'])"
   ]
  },
  {
   "cell_type": "markdown",
   "metadata": {
    "colab_type": "text",
    "id": "M99JmIX4Vp-2"
   },
   "source": [
    "# 7. Какой фильм самый убыточный? "
   ]
  },
  {
   "cell_type": "code",
   "execution_count": 88,
   "metadata": {
    "colab": {},
    "colab_type": "code",
    "id": "w-D2m4XPVp-3"
   },
   "outputs": [
    {
     "data": {
      "text/plain": [
       "profit\n",
       "-165710090                  The Lone Ranger\n",
       "-119180039                        The Alamo\n",
       "-111007242                  Mars Needs Moms\n",
       "-92896027      The Adventures of Pluto Nash\n",
       "-84540684                      Flushed Away\n",
       "                           ...             \n",
       " 1299557910                    The Avengers\n",
       " 1316249360                       Furious 7\n",
       " 1363528810                  Jurassic World\n",
       " 1868178225    Star Wars: The Force Awakens\n",
       " 2544505847                          Avatar\n",
       "Name: original_title, Length: 1881, dtype: object"
      ]
     },
     "metadata": {},
     "output_type": "display_data"
    }
   ],
   "source": [
    "answers['7'] = data.groupby(['profit'])['original_title'].min()\n",
    "display(answers['7'])"
   ]
  },
  {
   "cell_type": "markdown",
   "metadata": {
    "colab_type": "text",
    "id": "wEOM5ERVVp-6"
   },
   "source": [
    "# 8. У скольких фильмов из датасета объем сборов оказался выше бюджета?"
   ]
  },
  {
   "cell_type": "code",
   "execution_count": 101,
   "metadata": {
    "colab": {},
    "colab_type": "code",
    "id": "y00_7HD6Vp-7"
   },
   "outputs": [
    {
     "data": {
      "text/plain": [
       "0                     Jurassic World\n",
       "1                 Mad Max: Fury Road\n",
       "2                          Insurgent\n",
       "3       Star Wars: The Force Awakens\n",
       "4                          Furious 7\n",
       "                    ...             \n",
       "1871               Keeping the Faith\n",
       "1875                         The Kid\n",
       "1877               Love & Basketball\n",
       "1883                    Return to Me\n",
       "1884                           X-Men\n",
       "Name: original_title, Length: 1478, dtype: object"
      ]
     },
     "metadata": {},
     "output_type": "display_data"
    }
   ],
   "source": [
    "answers['8'] = data.original_title [(data.revenue > data.budget)]\n",
    "\n",
    "display(answers['8'])"
   ]
  },
  {
   "cell_type": "markdown",
   "metadata": {
    "colab_type": "text",
    "id": "xhpspA9KVp_A"
   },
   "source": [
    "# 9. Какой фильм оказался самым кассовым в 2008 году?"
   ]
  },
  {
   "cell_type": "code",
   "execution_count": 170,
   "metadata": {
    "colab": {},
    "colab_type": "code",
    "id": "MoUyQr9RVp_B"
   },
   "outputs": [
    {
     "data": {
      "text/plain": [
       "revenue\n",
       "2033165                                       Mutant Chronicles\n",
       "3533227                                 The Midnight Meat Train\n",
       "5530764                                      The Brothers Bloom\n",
       "5926410                                           Transsiberian\n",
       "6673422                                      What Just Happened\n",
       "                                    ...                        \n",
       "609841637                                            Mamma Mia!\n",
       "624029371                                               Hancock\n",
       "631744560                                         Kung Fu Panda\n",
       "786636033     Indiana Jones and the Kingdom of the Crystal S...\n",
       "1001921825                                      The Dark Knight\n",
       "Name: original_title, Length: 121, dtype: object"
      ]
     },
     "execution_count": 170,
     "metadata": {},
     "output_type": "execute_result"
    }
   ],
   "source": [
    "answers['9'] = data[data['release_year'] == 2008].groupby(['revenue'])['original_title'].max()\n",
    "answers['9'] "
   ]
  },
  {
   "cell_type": "markdown",
   "metadata": {
    "colab_type": "text",
    "id": "Zi4hDKidVp_F"
   },
   "source": [
    "# 10. Самый убыточный фильм за период с 2012 по 2014 г. (включительно)?\n"
   ]
  },
  {
   "cell_type": "code",
   "execution_count": 145,
   "metadata": {
    "colab": {},
    "colab_type": "code",
    "id": "XqyRmufJVp_F"
   },
   "outputs": [
    {
     "data": {
      "text/plain": [
       "profit\n",
       "-165710090                     The Lone Ranger\n",
       "-68351500                             R.I.P.D.\n",
       "-51893525                          Upside Down\n",
       "-51337973      Legends of Oz: Dorothy's Return\n",
       "-45510171                   Bullet to the Head\n",
       "                            ...               \n",
       " 894761885                     Despicable Me 2\n",
       " 908561013                             Skyfall\n",
       " 1015439994                         Iron Man 3\n",
       " 1124219009                             Frozen\n",
       " 1299557910                       The Avengers\n",
       "Name: original_title, Length: 367, dtype: object"
      ]
     },
     "execution_count": 145,
     "metadata": {},
     "output_type": "execute_result"
    }
   ],
   "source": [
    "profit = []\n",
    "data['profit'] = data['revenue'] - data['budget']\n",
    "answers['10'] = data[data['release_year'].between(2012, 2014)].groupby(['profit'])['original_title'].min()\n",
    "answers['10'] "
   ]
  },
  {
   "cell_type": "markdown",
   "metadata": {
    "colab_type": "text",
    "id": "EA7Sa9dkVp_I"
   },
   "source": [
    "# 11. Какого жанра фильмов больше всего?"
   ]
  },
  {
   "cell_type": "code",
   "execution_count": 144,
   "metadata": {
    "colab": {},
    "colab_type": "code",
    "id": "zsJAwJ8QVp_J"
   },
   "outputs": [
    {
     "data": {
      "text/plain": [
       "'Drama'"
      ]
     },
     "execution_count": 144,
     "metadata": {},
     "output_type": "execute_result"
    }
   ],
   "source": [
    "# эту задачу тоже можно решать разными подходами, попробуй реализовать разные варианты\n",
    "# если будешь добавлять функцию - выноси ее в предобработку что в начале\n",
    "genres_count = {}\n",
    "for genres in data['genres']:\n",
    "    for genre in genres.split('|'):\n",
    "        genres_count.setdefault(genre, 0)\n",
    "        genres_count[genre] += 1\n",
    "\n",
    "max_count = 0\n",
    "max_genres = []\n",
    "for genre, count in genres_count.items():\n",
    "    if count > max_count:\n",
    "        max_count = count\n",
    "        max_genres = [genre]\n",
    "    elif count == max_count:\n",
    "        max_genres.append(genre)\n",
    "\n",
    "answers['11'] = '\\n'.join(max_genres)\n",
    "answers['11']"
   ]
  },
  {
   "cell_type": "markdown",
   "metadata": {
    "colab_type": "text",
    "id": "Ax6g2C8SVp_M"
   },
   "source": [
    "ВАРИАНТ 2"
   ]
  },
  {
   "cell_type": "code",
   "execution_count": 0,
   "metadata": {
    "colab": {},
    "colab_type": "code",
    "id": "otO3SbrSVp_N"
   },
   "outputs": [],
   "source": []
  },
  {
   "cell_type": "markdown",
   "metadata": {
    "colab_type": "text",
    "id": "T9_bPWpkVp_Q"
   },
   "source": [
    "# 12. Фильмы какого жанра чаще всего становятся прибыльными? "
   ]
  },
  {
   "cell_type": "code",
   "execution_count": 146,
   "metadata": {
    "colab": {},
    "colab_type": "code",
    "id": "Tmt8MaK1Vp_R"
   },
   "outputs": [
    {
     "data": {
      "text/plain": [
       "'Drama'"
      ]
     },
     "execution_count": 146,
     "metadata": {},
     "output_type": "execute_result"
    }
   ],
   "source": [
    "answers['12'] = data[data['profit'] > 0]['genres'].str.split('|').explode().value_counts().index[0]\n",
    "answers['12']"
   ]
  },
  {
   "cell_type": "markdown",
   "metadata": {
    "colab_type": "text",
    "id": "0F23bgsDVp_U"
   },
   "source": [
    "# 13. У какого режиссера самые большие суммарные кассовые сбооры?"
   ]
  },
  {
   "cell_type": "code",
   "execution_count": 141,
   "metadata": {
    "colab": {},
    "colab_type": "code",
    "id": "K6Z3J8ygVp_X"
   },
   "outputs": [
    {
     "data": {
      "text/plain": [
       "'Peter Jackson'"
      ]
     },
     "execution_count": 141,
     "metadata": {},
     "output_type": "execute_result"
    }
   ],
   "source": [
    "movies = pd.concat([data['revenue'], data['director'].str.split('|')], axis=1).explode('director')\n",
    "movies = movies.groupby('director', sort=False)['revenue'].sum()\n",
    "answers['13'] = movies[movies == movies.max()].index.str.cat(sep='\\n')\n",
    "answers['13']"
   ]
  },
  {
   "cell_type": "markdown",
   "metadata": {
    "colab_type": "text",
    "id": "PsYC9FgRVp_a"
   },
   "source": [
    "# 14. Какой режисер снял больше всего фильмов в стиле Action?"
   ]
  },
  {
   "cell_type": "code",
   "execution_count": 136,
   "metadata": {
    "colab": {},
    "colab_type": "code",
    "id": "wd2M-wHeVp_b"
   },
   "outputs": [
    {
     "data": {
      "text/plain": [
       "'Robert Rodriguez'"
      ]
     },
     "execution_count": 136,
     "metadata": {},
     "output_type": "execute_result"
    }
   ],
   "source": [
    "answers['14'] = data[data['genres'].str.contains('action', case=False)]['director'].str.split('|').explode().value_counts().index[0]\n",
    "answers['14']"
   ]
  },
  {
   "cell_type": "markdown",
   "metadata": {
    "colab_type": "text",
    "id": "PQ0KciD7Vp_f"
   },
   "source": [
    "# 15. Фильмы с каким актером принесли самые высокие кассовые сборы в 2012 году? "
   ]
  },
  {
   "cell_type": "code",
   "execution_count": 137,
   "metadata": {
    "colab": {},
    "colab_type": "code",
    "id": "aga62oeKVp_g"
   },
   "outputs": [
    {
     "data": {
      "text/plain": [
       "'Chris Hemsworth'"
      ]
     },
     "execution_count": 137,
     "metadata": {},
     "output_type": "execute_result"
    }
   ],
   "source": [
    "movies = data[data['release_year'] == 2012]\n",
    "movies = pd.concat([movies['revenue'], movies['cast'].str.split('|')], axis=1).explode('cast')\n",
    "answers['15'] = movies.groupby('cast', sort=False)['revenue'].sum().sort_values(ascending=False).index[0]\n",
    "answers['15']"
   ]
  },
  {
   "cell_type": "markdown",
   "metadata": {
    "colab_type": "text",
    "id": "mWHyyL7QVp_j"
   },
   "source": [
    "# 16. Какой актер снялся в большем количестве высокобюджетных фильмов?"
   ]
  },
  {
   "cell_type": "code",
   "execution_count": 139,
   "metadata": {
    "colab": {},
    "colab_type": "code",
    "id": "qQtmHKTFVp_k"
   },
   "outputs": [
    {
     "data": {
      "text/plain": [
       "'Matt Damon'"
      ]
     },
     "execution_count": 139,
     "metadata": {},
     "output_type": "execute_result"
    }
   ],
   "source": [
    "movies = data[data['budget'] > data['budget'].mean()]\n",
    "answers['16'] = movies['cast'].str.split('|').explode().value_counts().index[0]\n",
    "answers['16']"
   ]
  },
  {
   "cell_type": "markdown",
   "metadata": {
    "colab_type": "text",
    "id": "NIh6AaW5Vp_n"
   },
   "source": [
    "# 17. В фильмах какого жанра больше всего снимался Nicolas Cage? "
   ]
  },
  {
   "cell_type": "code",
   "execution_count": 140,
   "metadata": {
    "colab": {},
    "colab_type": "code",
    "id": "H74SJDIBVp_n"
   },
   "outputs": [
    {
     "data": {
      "text/plain": [
       "'Action'"
      ]
     },
     "execution_count": 140,
     "metadata": {},
     "output_type": "execute_result"
    }
   ],
   "source": [
    "movies = pd.concat([data['release_year'], data['genres'].str.split('|'), data['cast'].str.split('|')], axis=1).explode('genres').explode('cast')\n",
    "movies = movies.groupby(['cast', 'genres'], sort=True)\n",
    "answers['17'] = movies.count().loc['Nicolas Cage']['release_year'].sort_values(ascending=False).index[0]\n",
    "answers['17']"
   ]
  },
  {
   "cell_type": "markdown",
   "metadata": {
    "colab_type": "text",
    "id": "RqOmPRfWVp_q"
   },
   "source": [
    "# 18. Самый убыточный фильм от Paramount Pictures"
   ]
  },
  {
   "cell_type": "code",
   "execution_count": 154,
   "metadata": {
    "colab": {},
    "colab_type": "code",
    "id": "9E_B0Y96Vp_r"
   },
   "outputs": [
    {
     "data": {
      "text/plain": [
       "'K-19: The Widowmaker (tt0267626)'"
      ]
     },
     "execution_count": 154,
     "metadata": {},
     "output_type": "execute_result"
    }
   ],
   "source": [
    "movies = data[data['production_companies'].str.contains('Paramount Pictures', case=False)]\n",
    "answers['18'] = movies[movies['profit'] == movies['profit'].min()]['title'].str.cat(sep='\\n')\n",
    "answers['18']"
   ]
  },
  {
   "cell_type": "markdown",
   "metadata": {
    "colab_type": "text",
    "id": "vS8Ur6ddVp_u"
   },
   "source": [
    "# 19. Какой год стал самым успешным по суммарным кассовым сборам?"
   ]
  },
  {
   "cell_type": "code",
   "execution_count": 148,
   "metadata": {
    "colab": {},
    "colab_type": "code",
    "id": "Dnbt4GdIVp_v"
   },
   "outputs": [
    {
     "data": {
      "text/plain": [
       "2015"
      ]
     },
     "execution_count": 148,
     "metadata": {},
     "output_type": "execute_result"
    }
   ],
   "source": [
    "answers['19'] = data.groupby('release_year', sort=False)['revenue'].sum().sort_values(ascending=False).index[0]\n",
    "answers['19']"
   ]
  },
  {
   "cell_type": "markdown",
   "metadata": {
    "colab_type": "text",
    "id": "JAzJh4QAVp_z"
   },
   "source": [
    "# 20. Какой самый прибыльный год для студии Warner Bros?"
   ]
  },
  {
   "cell_type": "code",
   "execution_count": 149,
   "metadata": {
    "colab": {},
    "colab_type": "code",
    "id": "wgVu02DEVp_0"
   },
   "outputs": [
    {
     "data": {
      "text/plain": [
       "2014"
      ]
     },
     "execution_count": 149,
     "metadata": {},
     "output_type": "execute_result"
    }
   ],
   "source": [
    "movies = data[data['production_companies'].str.contains('Warner Bros', case=False)]\n",
    "answers['20'] = movies.groupby('release_year', sort=False)['profit'].sum().sort_values(ascending=False).index[0]\n",
    "answers['20']"
   ]
  },
  {
   "cell_type": "markdown",
   "metadata": {
    "colab_type": "text",
    "id": "8Im1S2HRVp_4"
   },
   "source": [
    "# 21. В каком месяце за все годы суммарно вышло больше всего фильмов?"
   ]
  },
  {
   "cell_type": "code",
   "execution_count": 155,
   "metadata": {
    "colab": {},
    "colab_type": "code",
    "id": "lev6TH7gVp_4"
   },
   "outputs": [
    {
     "data": {
      "text/plain": [
       "'Сентябрь'"
      ]
     },
     "execution_count": 155,
     "metadata": {},
     "output_type": "execute_result"
    }
   ],
   "source": [
    "month = data.groupby('release_month')['release_date'].count().sort_values(ascending=False).index[0]\n",
    "answers['21'] = month_names[month]\n",
    "answers['21']"
   ]
  },
  {
   "cell_type": "markdown",
   "metadata": {
    "colab_type": "text",
    "id": "uAJsZ_NeVp_7"
   },
   "source": [
    "# 22. Сколько суммарно вышло фильмов летом? (за июнь, июль, август)"
   ]
  },
  {
   "cell_type": "code",
   "execution_count": 156,
   "metadata": {
    "colab": {},
    "colab_type": "code",
    "id": "Aa-hEREoVp_8"
   },
   "outputs": [
    {
     "data": {
      "text/plain": [
       "450"
      ]
     },
     "execution_count": 156,
     "metadata": {},
     "output_type": "execute_result"
    }
   ],
   "source": [
    "answers['22'] = data[data['release_month'].between(6, 8)].shape[0]\n",
    "answers['22']"
   ]
  },
  {
   "cell_type": "markdown",
   "metadata": {
    "colab_type": "text",
    "id": "G94ppOY1VqAA"
   },
   "source": [
    "# 23. Для какого режиссера зима – самое продуктивное время года? "
   ]
  },
  {
   "cell_type": "code",
   "execution_count": 158,
   "metadata": {
    "colab": {},
    "colab_type": "code",
    "id": "RhNTsamuVqAB"
   },
   "outputs": [
    {
     "data": {
      "text/plain": [
       "'Peter Jackson'"
      ]
     },
     "execution_count": 158,
     "metadata": {},
     "output_type": "execute_result"
    }
   ],
   "source": [
    "answers['23'] = data[(data['release_month'] == 12) | (data['release_month'] <= 2)]['director'].str.split('|').explode().value_counts().index[0]\n",
    "answers['23']"
   ]
  },
  {
   "cell_type": "markdown",
   "metadata": {
    "colab_type": "text",
    "id": "RBo0JVjVVqAF"
   },
   "source": [
    "# 24. Какая студия дает самые длинные названия своим фильмам по количеству символов?"
   ]
  },
  {
   "cell_type": "code",
   "execution_count": 159,
   "metadata": {
    "colab": {},
    "colab_type": "code",
    "id": "QRGS8L0iVqAG"
   },
   "outputs": [
    {
     "data": {
      "text/plain": [
       "'Four By Two Productions'"
      ]
     },
     "execution_count": 159,
     "metadata": {},
     "output_type": "execute_result"
    }
   ],
   "source": [
    "movies = pd.concat([data['title_length'], data['production_companies'].str.split('|')], axis=1).explode('production_companies')\n",
    "movies_grouped = movies.groupby(by='production_companies')['title_length']\n",
    "answers['24'] = (movies_grouped.sum() / movies_grouped.count()).sort_values(ascending=False).index[0]\n",
    "answers['24']"
   ]
  },
  {
   "cell_type": "markdown",
   "metadata": {
    "colab_type": "text",
    "id": "9G0hbvR7VqAK"
   },
   "source": [
    "# 25. Описание фильмов какой студии в среднем самые длинные по количеству слов?"
   ]
  },
  {
   "cell_type": "code",
   "execution_count": 160,
   "metadata": {
    "colab": {},
    "colab_type": "code",
    "id": "Ge2GsLNxVqAK"
   },
   "outputs": [
    {
     "data": {
      "text/plain": [
       "'Midnight Picture Show'"
      ]
     },
     "execution_count": 160,
     "metadata": {},
     "output_type": "execute_result"
    }
   ],
   "source": [
    "movies = pd.concat([data['overview_count'], data['production_companies'].str.split('|')], axis=1).explode('production_companies')\n",
    "movies_grouped = movies.groupby(by='production_companies')['overview_count']\n",
    "answers['25'] = (movies_grouped.sum() / movies_grouped.count()).sort_values(ascending=False).index[0]\n",
    "answers['25']"
   ]
  },
  {
   "cell_type": "markdown",
   "metadata": {
    "colab_type": "text",
    "id": "FJ1AFt90VqAP"
   },
   "source": [
    "# 26. Какие фильмы входят в 1 процент лучших по рейтингу? \n",
    "по vote_average"
   ]
  },
  {
   "cell_type": "code",
   "execution_count": 161,
   "metadata": {
    "colab": {},
    "colab_type": "code",
    "id": "8qmJVq4CVqAQ"
   },
   "outputs": [
    {
     "data": {
      "text/plain": [
       "'Inside Out\\nRoom\\nInterstellar\\nGuardians of the Galaxy\\nThe Imitation Game\\nGone Girl\\nThe Grand Budapest Hotel\\nInception\\nThe Dark Knight\\nThe Pianist\\nThe Lord of the Rings: The Return of the King\\nThe Wolf of Wall Street\\n12 Years a Slave\\nMemento'"
      ]
     },
     "execution_count": 161,
     "metadata": {},
     "output_type": "execute_result"
    }
   ],
   "source": [
    "answers['26'] = data[data['vote_average'] > data['vote_average'].quantile(0.99)]['original_title'].str.cat(sep='\\n')\n",
    "answers['26']"
   ]
  },
  {
   "cell_type": "markdown",
   "metadata": {
    "colab_type": "text",
    "id": "MdXsUXbCVqAV"
   },
   "source": [
    "# 27. Какие актеры чаще всего снимаются в одном фильме вместе?\n"
   ]
  },
  {
   "cell_type": "code",
   "execution_count": 162,
   "metadata": {},
   "outputs": [
    {
     "data": {
      "text/plain": [
       "'Daniel Radcliffe & Rupert Grint\\nDaniel Radcliffe & Emma Watson\\nEmma Watson & Rupert Grint'"
      ]
     },
     "execution_count": 162,
     "metadata": {},
     "output_type": "execute_result"
    }
   ],
   "source": [
    "actors_count = {}\n",
    "for actors in data['cast'].str.split('|'):\n",
    "    actors_amount = len(actors)\n",
    "    for actor1_index in range(actors_amount):\n",
    "\n",
    "        actor1 = actors[actor1_index]\n",
    "        for actor2_index in range(actor1_index + 1, actors_amount):\n",
    "            actor2 = actors[actor2_index]\n",
    "\n",
    "            if actor2 > actor1:\n",
    "                pair = (actor1, actor2)\n",
    "            else:\n",
    "                pair = (actor2, actor1)\n",
    "\n",
    "            if pair in actors_count:\n",
    "                actors_count[pair] += 1\n",
    "            else:\n",
    "                actors_count[pair] = 1\n",
    "\n",
    "max_count = 0\n",
    "max_pairs = []\n",
    "for pair, count in actors_count.items():\n",
    "    if count >= max_count:\n",
    "        if count > max_count:\n",
    "            max_count = count\n",
    "            max_pairs.clear()\n",
    "        max_pairs.append(' & '.join(pair))\n",
    "answers['27'] = '\\n'.join(max_pairs)\n",
    "answers['27']"
   ]
  },
  {
   "cell_type": "markdown",
   "metadata": {
    "colab_type": "text",
    "id": "4ymnxEVoVqAW"
   },
   "source": [
    "ВАРИАНТ 2"
   ]
  },
  {
   "cell_type": "markdown",
   "metadata": {
    "colab_type": "text",
    "id": "U0nONFnGVqAX"
   },
   "source": [
    "# Submission"
   ]
  },
  {
   "cell_type": "code",
   "execution_count": 0,
   "metadata": {
    "colab": {},
    "colab_type": "code",
    "id": "IfcaRO9-VqAX",
    "outputId": "0f132912-32bb-4196-c98c-abfbc4ad5a5f"
   },
   "outputs": [
    {
     "data": {
      "text/plain": [
       "{'1': '...', '2': '...'}"
      ]
     },
     "execution_count": 8,
     "metadata": {
      "tags": []
     },
     "output_type": "execute_result"
    }
   ],
   "source": [
    "# в конце можно посмотреть свои ответы к каждому вопросу\n",
    "answers"
   ]
  },
  {
   "cell_type": "code",
   "execution_count": 0,
   "metadata": {
    "colab": {},
    "colab_type": "code",
    "id": "SiRmHPl8VqAd"
   },
   "outputs": [],
   "source": [
    "# и убедиться что ни чего не пропустил)\n",
    "len(answers)"
   ]
  },
  {
   "cell_type": "code",
   "execution_count": 0,
   "metadata": {
    "colab": {},
    "colab_type": "code",
    "id": "uCfuTkRbVqAg"
   },
   "outputs": [],
   "source": []
  },
  {
   "cell_type": "code",
   "execution_count": 0,
   "metadata": {
    "colab": {},
    "colab_type": "code",
    "id": "Vwx3NrkSVqAl"
   },
   "outputs": [],
   "source": []
  }
 ],
 "metadata": {
  "colab": {
   "name": "Copy of [SF-DST] Movies IMBD v4.1 TEMPLATE.ipynb",
   "provenance": []
  },
  "kernelspec": {
   "display_name": "Python 3",
   "language": "python",
   "name": "python3"
  },
  "language_info": {
   "codemirror_mode": {
    "name": "ipython",
    "version": 3
   },
   "file_extension": ".py",
   "mimetype": "text/x-python",
   "name": "python",
   "nbconvert_exporter": "python",
   "pygments_lexer": "ipython3",
   "version": "3.7.6"
  }
 },
 "nbformat": 4,
 "nbformat_minor": 1
}
