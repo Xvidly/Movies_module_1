{
 "cells": [
  {
   "cell_type": "code",
   "execution_count": 1,
   "metadata": {
    "_cell_guid": "b1076dfc-b9ad-4769-8c92-a6c4dae69d19",
    "_uuid": "8f2839f25d086af736a60e9eeb907d3b93b6e0e5",
    "colab": {},
    "colab_type": "code",
    "id": "U2D2gTdJVp90"
   },
   "outputs": [],
   "source": [
    "import numpy as np\n",
    "import pandas as pd\n",
    "import seaborn as sns\n",
    "import matplotlib.pyplot as plt\n",
    "from collections import Counter"
   ]
  },
  {
   "cell_type": "code",
   "execution_count": 23,
   "metadata": {
    "_cell_guid": "79c7e3d0-c299-4dcb-8224-4455121ee9b0",
    "_uuid": "d629ff2d2480ee46fbb7e2d37f6b5fab8052498a",
    "colab": {},
    "colab_type": "code",
    "id": "oyGfxL3eVp9-"
   },
   "outputs": [
    {
     "data": {
      "text/html": [
       "<div>\n",
       "<style scoped>\n",
       "    .dataframe tbody tr th:only-of-type {\n",
       "        vertical-align: middle;\n",
       "    }\n",
       "\n",
       "    .dataframe tbody tr th {\n",
       "        vertical-align: top;\n",
       "    }\n",
       "\n",
       "    .dataframe thead th {\n",
       "        text-align: right;\n",
       "    }\n",
       "</style>\n",
       "<table border=\"1\" class=\"dataframe\">\n",
       "  <thead>\n",
       "    <tr style=\"text-align: right;\">\n",
       "      <th></th>\n",
       "      <th>imdb_id</th>\n",
       "      <th>budget</th>\n",
       "      <th>revenue</th>\n",
       "      <th>original_title</th>\n",
       "      <th>cast</th>\n",
       "      <th>director</th>\n",
       "      <th>tagline</th>\n",
       "      <th>overview</th>\n",
       "      <th>runtime</th>\n",
       "      <th>genres</th>\n",
       "      <th>production_companies</th>\n",
       "      <th>release_date</th>\n",
       "      <th>vote_average</th>\n",
       "      <th>release_year</th>\n",
       "    </tr>\n",
       "  </thead>\n",
       "  <tbody>\n",
       "    <tr>\n",
       "      <th>980</th>\n",
       "      <td>tt1217209</td>\n",
       "      <td>185000000</td>\n",
       "      <td>538983207</td>\n",
       "      <td>Brave</td>\n",
       "      <td>Kelly Macdonald|Julie Walters|Billy Connolly|E...</td>\n",
       "      <td>Mark Andrews|Steve Purcell|Brenda Chapman</td>\n",
       "      <td>Change your fate.</td>\n",
       "      <td>Brave is set in the mystical Scottish Highland...</td>\n",
       "      <td>93</td>\n",
       "      <td>Animation|Adventure|Comedy|Family|Action</td>\n",
       "      <td>Walt Disney Pictures|Pixar Animation Studios</td>\n",
       "      <td>6/21/2012</td>\n",
       "      <td>6.6</td>\n",
       "      <td>2012</td>\n",
       "    </tr>\n",
       "    <tr>\n",
       "      <th>1098</th>\n",
       "      <td>tt0307987</td>\n",
       "      <td>23000000</td>\n",
       "      <td>76488889</td>\n",
       "      <td>Bad Santa</td>\n",
       "      <td>Billy Bob Thornton|Tony Cox|Brett Kelly|Lauren...</td>\n",
       "      <td>Terry Zwigoff</td>\n",
       "      <td>He doesn't care if you're naughty or nice.</td>\n",
       "      <td>A miserable conman and his partner pose as San...</td>\n",
       "      <td>91</td>\n",
       "      <td>Drama|Comedy|Crime</td>\n",
       "      <td>Columbia Pictures|Dimension Films (US version)</td>\n",
       "      <td>11/25/2003</td>\n",
       "      <td>6.2</td>\n",
       "      <td>2003</td>\n",
       "    </tr>\n",
       "    <tr>\n",
       "      <th>1149</th>\n",
       "      <td>tt0309530</td>\n",
       "      <td>35000000</td>\n",
       "      <td>20298207</td>\n",
       "      <td>Down with Love</td>\n",
       "      <td>RenÃ©e Zellweger|Ewan McGregor|Sarah Paulson|D...</td>\n",
       "      <td>Peyton Reed</td>\n",
       "      <td>The ultimate catch has met his match</td>\n",
       "      <td>Aaaah... it's New York City in 1962, and love ...</td>\n",
       "      <td>101</td>\n",
       "      <td>Action|Comedy|Romance|Thriller</td>\n",
       "      <td>Regency Enterprises|Fox 2000 Pictures|Epsilon ...</td>\n",
       "      <td>5/8/2003</td>\n",
       "      <td>6.0</td>\n",
       "      <td>2003</td>\n",
       "    </tr>\n",
       "    <tr>\n",
       "      <th>1661</th>\n",
       "      <td>tt0315824</td>\n",
       "      <td>50000000</td>\n",
       "      <td>6808550</td>\n",
       "      <td>The Big Bounce</td>\n",
       "      <td>Owen Wilson|Morgan Freeman|Gary Sinise|Sara Fo...</td>\n",
       "      <td>George Armitage</td>\n",
       "      <td>It's all in who you trust</td>\n",
       "      <td>A small-time con artist and a Hawaiian real es...</td>\n",
       "      <td>88</td>\n",
       "      <td>Comedy|Crime</td>\n",
       "      <td>Warner Bros. Pictures|Shangri-La Entertainment...</td>\n",
       "      <td>1/30/2004</td>\n",
       "      <td>4.9</td>\n",
       "      <td>2004</td>\n",
       "    </tr>\n",
       "    <tr>\n",
       "      <th>338</th>\n",
       "      <td>tt1013752</td>\n",
       "      <td>85000000</td>\n",
       "      <td>363164265</td>\n",
       "      <td>Fast &amp; Furious</td>\n",
       "      <td>Vin Diesel|Paul Walker|Jordana Brewster|Michel...</td>\n",
       "      <td>Justin Lin</td>\n",
       "      <td>New Model. Original Parts.</td>\n",
       "      <td>When a crime brings them back to L.A., fugitiv...</td>\n",
       "      <td>107</td>\n",
       "      <td>Action|Crime|Drama|Thriller</td>\n",
       "      <td>Universal Pictures|Original Film|One Race Prod...</td>\n",
       "      <td>4/2/2009</td>\n",
       "      <td>6.4</td>\n",
       "      <td>2009</td>\n",
       "    </tr>\n",
       "  </tbody>\n",
       "</table>\n",
       "</div>"
      ],
      "text/plain": [
       "        imdb_id     budget    revenue  original_title  \\\n",
       "980   tt1217209  185000000  538983207           Brave   \n",
       "1098  tt0307987   23000000   76488889       Bad Santa   \n",
       "1149  tt0309530   35000000   20298207  Down with Love   \n",
       "1661  tt0315824   50000000    6808550  The Big Bounce   \n",
       "338   tt1013752   85000000  363164265  Fast & Furious   \n",
       "\n",
       "                                                   cast  \\\n",
       "980   Kelly Macdonald|Julie Walters|Billy Connolly|E...   \n",
       "1098  Billy Bob Thornton|Tony Cox|Brett Kelly|Lauren...   \n",
       "1149  RenÃ©e Zellweger|Ewan McGregor|Sarah Paulson|D...   \n",
       "1661  Owen Wilson|Morgan Freeman|Gary Sinise|Sara Fo...   \n",
       "338   Vin Diesel|Paul Walker|Jordana Brewster|Michel...   \n",
       "\n",
       "                                       director  \\\n",
       "980   Mark Andrews|Steve Purcell|Brenda Chapman   \n",
       "1098                              Terry Zwigoff   \n",
       "1149                                Peyton Reed   \n",
       "1661                            George Armitage   \n",
       "338                                  Justin Lin   \n",
       "\n",
       "                                         tagline  \\\n",
       "980                            Change your fate.   \n",
       "1098  He doesn't care if you're naughty or nice.   \n",
       "1149        The ultimate catch has met his match   \n",
       "1661                   It's all in who you trust   \n",
       "338                   New Model. Original Parts.   \n",
       "\n",
       "                                               overview  runtime  \\\n",
       "980   Brave is set in the mystical Scottish Highland...       93   \n",
       "1098  A miserable conman and his partner pose as San...       91   \n",
       "1149  Aaaah... it's New York City in 1962, and love ...      101   \n",
       "1661  A small-time con artist and a Hawaiian real es...       88   \n",
       "338   When a crime brings them back to L.A., fugitiv...      107   \n",
       "\n",
       "                                        genres  \\\n",
       "980   Animation|Adventure|Comedy|Family|Action   \n",
       "1098                        Drama|Comedy|Crime   \n",
       "1149            Action|Comedy|Romance|Thriller   \n",
       "1661                              Comedy|Crime   \n",
       "338                Action|Crime|Drama|Thriller   \n",
       "\n",
       "                                   production_companies release_date  \\\n",
       "980        Walt Disney Pictures|Pixar Animation Studios    6/21/2012   \n",
       "1098     Columbia Pictures|Dimension Films (US version)   11/25/2003   \n",
       "1149  Regency Enterprises|Fox 2000 Pictures|Epsilon ...     5/8/2003   \n",
       "1661  Warner Bros. Pictures|Shangri-La Entertainment...    1/30/2004   \n",
       "338   Universal Pictures|Original Film|One Race Prod...     4/2/2009   \n",
       "\n",
       "      vote_average  release_year  \n",
       "980            6.6          2012  \n",
       "1098           6.2          2003  \n",
       "1149           6.0          2003  \n",
       "1661           4.9          2004  \n",
       "338            6.4          2009  "
      ]
     },
     "execution_count": 23,
     "metadata": {},
     "output_type": "execute_result"
    }
   ],
   "source": [
    "data = pd.read_csv('movie_bd_v5.xls')\n",
    "data.sample(5)"
   ]
  },
  {
   "cell_type": "code",
   "execution_count": 24,
   "metadata": {
    "colab": {},
    "colab_type": "code",
    "id": "CoYUnagMVp-C"
   },
   "outputs": [
    {
     "data": {
      "text/html": [
       "<div>\n",
       "<style scoped>\n",
       "    .dataframe tbody tr th:only-of-type {\n",
       "        vertical-align: middle;\n",
       "    }\n",
       "\n",
       "    .dataframe tbody tr th {\n",
       "        vertical-align: top;\n",
       "    }\n",
       "\n",
       "    .dataframe thead th {\n",
       "        text-align: right;\n",
       "    }\n",
       "</style>\n",
       "<table border=\"1\" class=\"dataframe\">\n",
       "  <thead>\n",
       "    <tr style=\"text-align: right;\">\n",
       "      <th></th>\n",
       "      <th>budget</th>\n",
       "      <th>revenue</th>\n",
       "      <th>runtime</th>\n",
       "      <th>vote_average</th>\n",
       "      <th>release_year</th>\n",
       "    </tr>\n",
       "  </thead>\n",
       "  <tbody>\n",
       "    <tr>\n",
       "      <th>count</th>\n",
       "      <td>1.889000e+03</td>\n",
       "      <td>1.889000e+03</td>\n",
       "      <td>1889.000000</td>\n",
       "      <td>1889.000000</td>\n",
       "      <td>1889.000000</td>\n",
       "    </tr>\n",
       "    <tr>\n",
       "      <th>mean</th>\n",
       "      <td>5.431083e+07</td>\n",
       "      <td>1.553653e+08</td>\n",
       "      <td>109.658549</td>\n",
       "      <td>6.140762</td>\n",
       "      <td>2007.860773</td>\n",
       "    </tr>\n",
       "    <tr>\n",
       "      <th>std</th>\n",
       "      <td>4.858721e+07</td>\n",
       "      <td>2.146698e+08</td>\n",
       "      <td>18.017041</td>\n",
       "      <td>0.764763</td>\n",
       "      <td>4.468841</td>\n",
       "    </tr>\n",
       "    <tr>\n",
       "      <th>min</th>\n",
       "      <td>5.000000e+06</td>\n",
       "      <td>2.033165e+06</td>\n",
       "      <td>63.000000</td>\n",
       "      <td>3.300000</td>\n",
       "      <td>2000.000000</td>\n",
       "    </tr>\n",
       "    <tr>\n",
       "      <th>25%</th>\n",
       "      <td>2.000000e+07</td>\n",
       "      <td>3.456058e+07</td>\n",
       "      <td>97.000000</td>\n",
       "      <td>5.600000</td>\n",
       "      <td>2004.000000</td>\n",
       "    </tr>\n",
       "    <tr>\n",
       "      <th>50%</th>\n",
       "      <td>3.800000e+07</td>\n",
       "      <td>8.361541e+07</td>\n",
       "      <td>107.000000</td>\n",
       "      <td>6.100000</td>\n",
       "      <td>2008.000000</td>\n",
       "    </tr>\n",
       "    <tr>\n",
       "      <th>75%</th>\n",
       "      <td>7.200000e+07</td>\n",
       "      <td>1.782626e+08</td>\n",
       "      <td>120.000000</td>\n",
       "      <td>6.600000</td>\n",
       "      <td>2012.000000</td>\n",
       "    </tr>\n",
       "    <tr>\n",
       "      <th>max</th>\n",
       "      <td>3.800000e+08</td>\n",
       "      <td>2.781506e+09</td>\n",
       "      <td>214.000000</td>\n",
       "      <td>8.100000</td>\n",
       "      <td>2015.000000</td>\n",
       "    </tr>\n",
       "  </tbody>\n",
       "</table>\n",
       "</div>"
      ],
      "text/plain": [
       "             budget       revenue      runtime  vote_average  release_year\n",
       "count  1.889000e+03  1.889000e+03  1889.000000   1889.000000   1889.000000\n",
       "mean   5.431083e+07  1.553653e+08   109.658549      6.140762   2007.860773\n",
       "std    4.858721e+07  2.146698e+08    18.017041      0.764763      4.468841\n",
       "min    5.000000e+06  2.033165e+06    63.000000      3.300000   2000.000000\n",
       "25%    2.000000e+07  3.456058e+07    97.000000      5.600000   2004.000000\n",
       "50%    3.800000e+07  8.361541e+07   107.000000      6.100000   2008.000000\n",
       "75%    7.200000e+07  1.782626e+08   120.000000      6.600000   2012.000000\n",
       "max    3.800000e+08  2.781506e+09   214.000000      8.100000   2015.000000"
      ]
     },
     "execution_count": 24,
     "metadata": {},
     "output_type": "execute_result"
    }
   ],
   "source": [
    "data.describe()"
   ]
  },
  {
   "cell_type": "markdown",
   "metadata": {
    "colab_type": "text",
    "id": "DTIt7ezGVp-G"
   },
   "source": [
    "# Предобработка"
   ]
  },
  {
   "cell_type": "code",
   "execution_count": 4,
   "metadata": {
    "colab": {},
    "colab_type": "code",
    "id": "jNb40DwKVp-H"
   },
   "outputs": [],
   "source": [
    "answers = {} # создадим словарь для ответов\n",
    "\n",
    "# тут другие ваши предобработки колонок например:\n",
    "\n",
    "#the time given in the dataset is in string format.\n",
    "#So we need to change this in datetime format\n",
    "# ..."
   ]
  },
  {
   "cell_type": "markdown",
   "metadata": {
    "colab_type": "text",
    "id": "YxZaH-nPVp-L"
   },
   "source": [
    "# 1. У какого фильма из списка самый большой бюджет?"
   ]
  },
  {
   "cell_type": "markdown",
   "metadata": {
    "colab_type": "text",
    "id": "Nd-G5gX6Vp-M"
   },
   "source": [
    "Использовать варианты ответов в коде решения запрещено.    \n",
    "Вы думаете и в жизни у вас будут варианты ответов?)"
   ]
  },
  {
   "cell_type": "code",
   "execution_count": 19,
   "metadata": {
    "colab": {},
    "colab_type": "code",
    "id": "uVnXAY5RVp-O"
   },
   "outputs": [],
   "source": [
    "# в словарь вставляем номер вопроса и ваш ответ на него\n",
    "# Пример: \n",
    "answers['1'] = '2. Spider-Man 3 (tt0413300)'\n",
    "# запишите свой вариант ответа\n",
    "answers['1'] = '...'\n",
    "# если ответили верно, можете добавить комментарий со значком \"+\""
   ]
  },
  {
   "cell_type": "code",
   "execution_count": 45,
   "metadata": {
    "colab": {},
    "colab_type": "code",
    "id": "dZwb3m28Vp-S"
   },
   "outputs": [
    {
     "data": {
      "text/plain": [
       "{'1': budget\n",
       " 5000000                                       Wonderland\n",
       " 5500000                                   Predestination\n",
       " 6000000                              We Are Your Friends\n",
       " 6400000                                       Young Adam\n",
       " 6500000                                      The Pyramid\n",
       "                                 ...                     \n",
       " 258000000                                   Spider-Man 3\n",
       " 260000000                                        Tangled\n",
       " 280000000                        Avengers: Age of Ultron\n",
       " 300000000       Pirates of the Caribbean: At World's End\n",
       " 380000000    Pirates of the Caribbean: On Stranger Tides\n",
       " Name: original_title, Length: 203, dtype: object}"
      ]
     },
     "metadata": {},
     "output_type": "display_data"
    }
   ],
   "source": [
    "# тут пишем ваш код для решения данного вопроса:\n",
    "answers['1']  = data.groupby(['budget'])['original_title'].max()\n",
    "display(answers['1'])"
   ]
  },
  {
   "cell_type": "markdown",
   "metadata": {
    "colab_type": "text",
    "id": "K7L3nbRXVp-X"
   },
   "source": [
    "ВАРИАНТ 2"
   ]
  },
  {
   "cell_type": "code",
   "execution_count": 0,
   "metadata": {
    "colab": {},
    "colab_type": "code",
    "id": "OGaoQI7rVp-X"
   },
   "outputs": [],
   "source": [
    "# можно добавлять разные варианты решения"
   ]
  },
  {
   "cell_type": "markdown",
   "metadata": {
    "colab_type": "text",
    "id": "FNRbbI3vVp-c"
   },
   "source": [
    "# 2. Какой из фильмов самый длительный (в минутах)?"
   ]
  },
  {
   "cell_type": "code",
   "execution_count": 0,
   "metadata": {
    "colab": {},
    "colab_type": "code",
    "id": "vHAoEXNTVp-d"
   },
   "outputs": [],
   "source": [
    "# думаю логику работы с этим словарем вы уже поняли, \n",
    "# по этому не буду больше его дублировать\n",
    "answers['2'] = '...'"
   ]
  },
  {
   "cell_type": "code",
   "execution_count": 48,
   "metadata": {
    "colab": {},
    "colab_type": "code",
    "id": "ot-VX2XrVp-g"
   },
   "outputs": [
    {
     "data": {
      "text/plain": [
       "runtime\n",
       "63                                   Winnie the Pooh\n",
       "72                                 The Jungle Book 2\n",
       "76                                           Valiant\n",
       "77                                      Corpse Bride\n",
       "78                          The Emperor's New Groove\n",
       "                           ...                      \n",
       "183                                     Pearl Harbor\n",
       "187                                        King Kong\n",
       "191                                       Grindhouse\n",
       "201    The Lord of the Rings: The Return of the King\n",
       "214                                Gods and Generals\n",
       "Name: original_title, Length: 105, dtype: object"
      ]
     },
     "metadata": {},
     "output_type": "display_data"
    }
   ],
   "source": [
    "answers['2'] = data.groupby(['runtime'])['original_title'].max()\n",
    "display(answers['2'])"
   ]
  },
  {
   "cell_type": "markdown",
   "metadata": {
    "colab_type": "text",
    "id": "bapLlpW8Vp-k"
   },
   "source": [
    "# 3. Какой из фильмов самый короткий (в минутах)?\n",
    "\n",
    "\n",
    "\n"
   ]
  },
  {
   "cell_type": "code",
   "execution_count": 49,
   "metadata": {
    "colab": {},
    "colab_type": "code",
    "id": "YBxaSHuAVp-l"
   },
   "outputs": [
    {
     "data": {
      "text/plain": [
       "runtime\n",
       "63                                   Winnie the Pooh\n",
       "72                              Return to Never Land\n",
       "76                                 Home on the Range\n",
       "77                                      Corpse Bride\n",
       "78                                   Stuart Little 2\n",
       "                           ...                      \n",
       "183                                     Pearl Harbor\n",
       "187                                        King Kong\n",
       "191                                       Grindhouse\n",
       "201    The Lord of the Rings: The Return of the King\n",
       "214                                Gods and Generals\n",
       "Name: original_title, Length: 105, dtype: object"
      ]
     },
     "metadata": {},
     "output_type": "display_data"
    }
   ],
   "source": [
    "answers['3'] = data.groupby(['runtime'])['original_title'].min()\n",
    "display(answers['3'])"
   ]
  },
  {
   "cell_type": "markdown",
   "metadata": {
    "colab_type": "text",
    "id": "TfQbxbfNVp-p"
   },
   "source": [
    "# 4. Какова средняя длительность фильмов?\n"
   ]
  },
  {
   "cell_type": "code",
   "execution_count": 64,
   "metadata": {
    "colab": {},
    "colab_type": "code",
    "id": "5K6dKZYVVp-q"
   },
   "outputs": [
    {
     "data": {
      "text/plain": [
       "110"
      ]
     },
     "execution_count": 64,
     "metadata": {},
     "output_type": "execute_result"
    }
   ],
   "source": [
    "answers['4'] = data['runtime'].mean()\n",
    "round(answers['4'])"
   ]
  },
  {
   "cell_type": "markdown",
   "metadata": {
    "colab_type": "text",
    "id": "r5TvbnT_Vp-u"
   },
   "source": [
    "# 5. Каково медианное значение длительности фильмов? "
   ]
  },
  {
   "cell_type": "code",
   "execution_count": 65,
   "metadata": {
    "colab": {},
    "colab_type": "code",
    "id": "iBROplKnVp-v"
   },
   "outputs": [
    {
     "data": {
      "text/plain": [
       "107"
      ]
     },
     "execution_count": 65,
     "metadata": {},
     "output_type": "execute_result"
    }
   ],
   "source": [
    "answers['5'] = data['runtime'].median()\n",
    "round(answers['5'])"
   ]
  },
  {
   "cell_type": "markdown",
   "metadata": {
    "colab_type": "text",
    "id": "39P-deDSVp-y"
   },
   "source": [
    "# 6. Какой самый прибыльный фильм?\n",
    "#### Внимание! Здесь и далее под «прибылью» или «убытками» понимается разность между сборами и бюджетом фильма. (прибыль = сборы - бюджет) в нашем датасете это будет (profit = revenue - budget) "
   ]
  },
  {
   "cell_type": "code",
   "execution_count": 87,
   "metadata": {
    "colab": {},
    "colab_type": "code",
    "id": "UYZh4T9WVp-y"
   },
   "outputs": [
    {
     "data": {
      "text/plain": [
       "profit\n",
       "-165710090                  The Lone Ranger\n",
       "-119180039                        The Alamo\n",
       "-111007242                  Mars Needs Moms\n",
       "-92896027      The Adventures of Pluto Nash\n",
       "-84540684                      Flushed Away\n",
       "                           ...             \n",
       " 1299557910                    The Avengers\n",
       " 1316249360                       Furious 7\n",
       " 1363528810                  Jurassic World\n",
       " 1868178225    Star Wars: The Force Awakens\n",
       " 2544505847                          Avatar\n",
       "Name: original_title, Length: 1881, dtype: object"
      ]
     },
     "metadata": {},
     "output_type": "display_data"
    }
   ],
   "source": [
    "# лучше код получения столбца profit вынести в Предобработку что в начале\n",
    "profit = []\n",
    "data['profit'] = data['revenue'] - data['budget']\n",
    "answers['6'] = data.groupby(['profit'])['original_title'].max()\n",
    "display(answers['6'])"
   ]
  },
  {
   "cell_type": "markdown",
   "metadata": {
    "colab_type": "text",
    "id": "M99JmIX4Vp-2"
   },
   "source": [
    "# 7. Какой фильм самый убыточный? "
   ]
  },
  {
   "cell_type": "code",
   "execution_count": 88,
   "metadata": {
    "colab": {},
    "colab_type": "code",
    "id": "w-D2m4XPVp-3"
   },
   "outputs": [
    {
     "data": {
      "text/plain": [
       "profit\n",
       "-165710090                  The Lone Ranger\n",
       "-119180039                        The Alamo\n",
       "-111007242                  Mars Needs Moms\n",
       "-92896027      The Adventures of Pluto Nash\n",
       "-84540684                      Flushed Away\n",
       "                           ...             \n",
       " 1299557910                    The Avengers\n",
       " 1316249360                       Furious 7\n",
       " 1363528810                  Jurassic World\n",
       " 1868178225    Star Wars: The Force Awakens\n",
       " 2544505847                          Avatar\n",
       "Name: original_title, Length: 1881, dtype: object"
      ]
     },
     "metadata": {},
     "output_type": "display_data"
    }
   ],
   "source": [
    "answers['7'] = data.groupby(['profit'])['original_title'].min()\n",
    "display(answers['7'])"
   ]
  },
  {
   "cell_type": "markdown",
   "metadata": {
    "colab_type": "text",
    "id": "wEOM5ERVVp-6"
   },
   "source": [
    "# 8. У скольких фильмов из датасета объем сборов оказался выше бюджета?"
   ]
  },
  {
   "cell_type": "code",
   "execution_count": 101,
   "metadata": {
    "colab": {},
    "colab_type": "code",
    "id": "y00_7HD6Vp-7"
   },
   "outputs": [
    {
     "data": {
      "text/plain": [
       "0                     Jurassic World\n",
       "1                 Mad Max: Fury Road\n",
       "2                          Insurgent\n",
       "3       Star Wars: The Force Awakens\n",
       "4                          Furious 7\n",
       "                    ...             \n",
       "1871               Keeping the Faith\n",
       "1875                         The Kid\n",
       "1877               Love & Basketball\n",
       "1883                    Return to Me\n",
       "1884                           X-Men\n",
       "Name: original_title, Length: 1478, dtype: object"
      ]
     },
     "metadata": {},
     "output_type": "display_data"
    }
   ],
   "source": [
    "answers['8'] = data.original_title [(data.revenue > data.budget)]\n",
    "\n",
    "display(answers['8'])"
   ]
  },
  {
   "cell_type": "markdown",
   "metadata": {
    "colab_type": "text",
    "id": "xhpspA9KVp_A"
   },
   "source": [
    "# 9. Какой фильм оказался самым кассовым в 2008 году?"
   ]
  },
  {
   "cell_type": "code",
   "execution_count": 170,
   "metadata": {
    "colab": {},
    "colab_type": "code",
    "id": "MoUyQr9RVp_B"
   },
   "outputs": [
    {
     "data": {
      "text/plain": [
       "revenue\n",
       "2033165                                       Mutant Chronicles\n",
       "3533227                                 The Midnight Meat Train\n",
       "5530764                                      The Brothers Bloom\n",
       "5926410                                           Transsiberian\n",
       "6673422                                      What Just Happened\n",
       "                                    ...                        \n",
       "609841637                                            Mamma Mia!\n",
       "624029371                                               Hancock\n",
       "631744560                                         Kung Fu Panda\n",
       "786636033     Indiana Jones and the Kingdom of the Crystal S...\n",
       "1001921825                                      The Dark Knight\n",
       "Name: original_title, Length: 121, dtype: object"
      ]
     },
     "execution_count": 170,
     "metadata": {},
     "output_type": "execute_result"
    }
   ],
   "source": [
    "answers['9'] = data[data['release_year'] == 2008].groupby(['revenue'])['original_title'].max()\n",
    "answers['9'] "
   ]
  },
  {
   "cell_type": "markdown",
   "metadata": {
    "colab_type": "text",
    "id": "Zi4hDKidVp_F"
   },
   "source": [
    "# 10. Самый убыточный фильм за период с 2012 по 2014 г. (включительно)?\n"
   ]
  },
  {
   "cell_type": "code",
   "execution_count": 228,
   "metadata": {
    "colab": {},
    "colab_type": "code",
    "id": "XqyRmufJVp_F"
   },
   "outputs": [
    {
     "data": {
      "text/plain": [
       "profit\n",
       "-165710090                     The Lone Ranger\n",
       "-68351500                             R.I.P.D.\n",
       "-51893525                          Upside Down\n",
       "-51337973      Legends of Oz: Dorothy's Return\n",
       "-45510171                   Bullet to the Head\n",
       "                            ...               \n",
       " 894761885                     Despicable Me 2\n",
       " 908561013                             Skyfall\n",
       " 1015439994                         Iron Man 3\n",
       " 1124219009                             Frozen\n",
       " 1299557910                       The Avengers\n",
       "Name: original_title, Length: 367, dtype: object"
      ]
     },
     "execution_count": 228,
     "metadata": {},
     "output_type": "execute_result"
    }
   ],
   "source": [
    "profit = []\n",
    "data['profit'] = data['revenue'] - data['budget']\n",
    "answers['10'] = data[data['release_year'].between(2012, 2014)].groupby(['profit'])['original_title'].min()\n",
    "answers['10'] "
   ]
  },
  {
   "cell_type": "markdown",
   "metadata": {
    "colab_type": "text",
    "id": "EA7Sa9dkVp_I"
   },
   "source": [
    "# 11. Какого жанра фильмов больше всего?"
   ]
  },
  {
   "cell_type": "code",
   "execution_count": 209,
   "metadata": {
    "colab": {},
    "colab_type": "code",
    "id": "zsJAwJ8QVp_J"
   },
   "outputs": [
    {
     "data": {
      "text/plain": [
       "Comedy                                     141\n",
       "Drama                                      102\n",
       "Comedy|Romance                              60\n",
       "Drama|Romance                               45\n",
       "Horror|Thriller                             35\n",
       "                                          ... \n",
       "Crime|Thriller|Horror                        1\n",
       "Horror|Action|Thriller                       1\n",
       "Science Fiction|Mystery|Thriller             1\n",
       "Horror|Comedy|Romance                        1\n",
       "Action|Fantasy|Science Fiction|Thriller      1\n",
       "Name: genres, Length: 652, dtype: int64"
      ]
     },
     "execution_count": 209,
     "metadata": {},
     "output_type": "execute_result"
    }
   ],
   "source": [
    "answers['11'] = data['genres'].value_counts()\n",
    "answers['11']\n",
    "# эту задачу тоже можно решать разными подходами, попробуй реализовать разные варианты\n",
    "# если будешь добавлять функцию - выноси ее в предобработку что в начале\n"
   ]
  },
  {
   "cell_type": "markdown",
   "metadata": {
    "colab_type": "text",
    "id": "Ax6g2C8SVp_M"
   },
   "source": [
    "ВАРИАНТ 2"
   ]
  },
  {
   "cell_type": "code",
   "execution_count": 0,
   "metadata": {
    "colab": {},
    "colab_type": "code",
    "id": "otO3SbrSVp_N"
   },
   "outputs": [],
   "source": []
  },
  {
   "cell_type": "markdown",
   "metadata": {
    "colab_type": "text",
    "id": "T9_bPWpkVp_Q"
   },
   "source": [
    "# 12. Фильмы какого жанра чаще всего становятся прибыльными? "
   ]
  },
  {
   "cell_type": "code",
   "execution_count": 217,
   "metadata": {
    "colab": {},
    "colab_type": "code",
    "id": "Tmt8MaK1Vp_R"
   },
   "outputs": [
    {
     "data": {
      "text/plain": [
       "Action             242\n",
       "Adventure          222\n",
       "Comedy             196\n",
       "Drama              156\n",
       "Thriller           151\n",
       "Family             130\n",
       "Fantasy            123\n",
       "Science Fiction    118\n",
       "Animation           86\n",
       "Romance             76\n",
       "Crime               69\n",
       "Mystery             43\n",
       "Horror              23\n",
       "War                 19\n",
       "History             15\n",
       "Music               14\n",
       "Western              6\n",
       "Name: genres, dtype: int64"
      ]
     },
     "execution_count": 217,
     "metadata": {},
     "output_type": "execute_result"
    }
   ],
   "source": [
    "data12 = data.copy()\n",
    "data12 = data12[data.revenue > data.revenue.mean()]\n",
    "data12.genres = data12.genres.str.split('|')\n",
    "data12 = data12.explode('genres')\n",
    "data12.genres.value_counts()"
   ]
  },
  {
   "cell_type": "markdown",
   "metadata": {
    "colab_type": "text",
    "id": "0F23bgsDVp_U"
   },
   "source": [
    "# 13. У какого режиссера самые большие суммарные кассовые сбооры?"
   ]
  },
  {
   "cell_type": "code",
   "execution_count": 221,
   "metadata": {
    "colab": {},
    "colab_type": "code",
    "id": "K6Z3J8ygVp_X"
   },
   "outputs": [
    {
     "data": {
      "text/plain": [
       "revenue\n",
       "2033165           Simon Hunter\n",
       "2054941           Keanu Reeves\n",
       "2062066          Paul Schrader\n",
       "2106557             Simon West\n",
       "2281089       Steven Shainberg\n",
       "                    ...       \n",
       "1506249360           James Wan\n",
       "1513528810     Colin Trevorrow\n",
       "1519557910         Joss Whedon\n",
       "2068178225         J.J. Abrams\n",
       "2781505847       James Cameron\n",
       "Name: director, Length: 1885, dtype: object"
      ]
     },
     "execution_count": 221,
     "metadata": {},
     "output_type": "execute_result"
    }
   ],
   "source": [
    "answers['13'] = data.groupby(['revenue'])['director'].max()\n",
    "answers['13'] "
   ]
  },
  {
   "cell_type": "markdown",
   "metadata": {
    "colab_type": "text",
    "id": "PsYC9FgRVp_a"
   },
   "source": [
    "# 14. Какой режисер снял больше всего фильмов в стиле Action?"
   ]
  },
  {
   "cell_type": "code",
   "execution_count": 227,
   "metadata": {
    "colab": {},
    "colab_type": "code",
    "id": "wd2M-wHeVp_b"
   },
   "outputs": [
    {
     "data": {
      "text/plain": [
       "Series([], Name: director, dtype: int64)"
      ]
     },
     "execution_count": 227,
     "metadata": {},
     "output_type": "execute_result"
    }
   ],
   "source": []
  },
  {
   "cell_type": "markdown",
   "metadata": {
    "colab_type": "text",
    "id": "PQ0KciD7Vp_f"
   },
   "source": [
    "# 15. Фильмы с каким актером принесли самые высокие кассовые сборы в 2012 году? "
   ]
  },
  {
   "cell_type": "code",
   "execution_count": 0,
   "metadata": {
    "colab": {},
    "colab_type": "code",
    "id": "aga62oeKVp_g"
   },
   "outputs": [],
   "source": []
  },
  {
   "cell_type": "markdown",
   "metadata": {
    "colab_type": "text",
    "id": "mWHyyL7QVp_j"
   },
   "source": [
    "# 16. Какой актер снялся в большем количестве высокобюджетных фильмов?"
   ]
  },
  {
   "cell_type": "code",
   "execution_count": 0,
   "metadata": {
    "colab": {},
    "colab_type": "code",
    "id": "qQtmHKTFVp_k"
   },
   "outputs": [],
   "source": []
  },
  {
   "cell_type": "markdown",
   "metadata": {
    "colab_type": "text",
    "id": "NIh6AaW5Vp_n"
   },
   "source": [
    "# 17. В фильмах какого жанра больше всего снимался Nicolas Cage? "
   ]
  },
  {
   "cell_type": "code",
   "execution_count": 0,
   "metadata": {
    "colab": {},
    "colab_type": "code",
    "id": "H74SJDIBVp_n"
   },
   "outputs": [],
   "source": []
  },
  {
   "cell_type": "markdown",
   "metadata": {
    "colab_type": "text",
    "id": "RqOmPRfWVp_q"
   },
   "source": [
    "# 18. Самый убыточный фильм от Paramount Pictures"
   ]
  },
  {
   "cell_type": "code",
   "execution_count": 0,
   "metadata": {
    "colab": {},
    "colab_type": "code",
    "id": "9E_B0Y96Vp_r"
   },
   "outputs": [],
   "source": []
  },
  {
   "cell_type": "markdown",
   "metadata": {
    "colab_type": "text",
    "id": "vS8Ur6ddVp_u"
   },
   "source": [
    "# 19. Какой год стал самым успешным по суммарным кассовым сборам?"
   ]
  },
  {
   "cell_type": "code",
   "execution_count": 0,
   "metadata": {
    "colab": {},
    "colab_type": "code",
    "id": "Dnbt4GdIVp_v"
   },
   "outputs": [],
   "source": []
  },
  {
   "cell_type": "markdown",
   "metadata": {
    "colab_type": "text",
    "id": "JAzJh4QAVp_z"
   },
   "source": [
    "# 20. Какой самый прибыльный год для студии Warner Bros?"
   ]
  },
  {
   "cell_type": "code",
   "execution_count": 0,
   "metadata": {
    "colab": {},
    "colab_type": "code",
    "id": "wgVu02DEVp_0"
   },
   "outputs": [],
   "source": []
  },
  {
   "cell_type": "markdown",
   "metadata": {
    "colab_type": "text",
    "id": "8Im1S2HRVp_4"
   },
   "source": [
    "# 21. В каком месяце за все годы суммарно вышло больше всего фильмов?"
   ]
  },
  {
   "cell_type": "code",
   "execution_count": 0,
   "metadata": {
    "colab": {},
    "colab_type": "code",
    "id": "lev6TH7gVp_4"
   },
   "outputs": [],
   "source": []
  },
  {
   "cell_type": "markdown",
   "metadata": {
    "colab_type": "text",
    "id": "uAJsZ_NeVp_7"
   },
   "source": [
    "# 22. Сколько суммарно вышло фильмов летом? (за июнь, июль, август)"
   ]
  },
  {
   "cell_type": "code",
   "execution_count": 0,
   "metadata": {
    "colab": {},
    "colab_type": "code",
    "id": "Aa-hEREoVp_8"
   },
   "outputs": [],
   "source": []
  },
  {
   "cell_type": "markdown",
   "metadata": {
    "colab_type": "text",
    "id": "G94ppOY1VqAA"
   },
   "source": [
    "# 23. Для какого режиссера зима – самое продуктивное время года? "
   ]
  },
  {
   "cell_type": "code",
   "execution_count": 0,
   "metadata": {
    "colab": {},
    "colab_type": "code",
    "id": "RhNTsamuVqAB"
   },
   "outputs": [],
   "source": []
  },
  {
   "cell_type": "markdown",
   "metadata": {
    "colab_type": "text",
    "id": "RBo0JVjVVqAF"
   },
   "source": [
    "# 24. Какая студия дает самые длинные названия своим фильмам по количеству символов?"
   ]
  },
  {
   "cell_type": "code",
   "execution_count": 0,
   "metadata": {
    "colab": {},
    "colab_type": "code",
    "id": "QRGS8L0iVqAG"
   },
   "outputs": [],
   "source": []
  },
  {
   "cell_type": "markdown",
   "metadata": {
    "colab_type": "text",
    "id": "9G0hbvR7VqAK"
   },
   "source": [
    "# 25. Описание фильмов какой студии в среднем самые длинные по количеству слов?"
   ]
  },
  {
   "cell_type": "code",
   "execution_count": 0,
   "metadata": {
    "colab": {},
    "colab_type": "code",
    "id": "Ge2GsLNxVqAK"
   },
   "outputs": [],
   "source": []
  },
  {
   "cell_type": "markdown",
   "metadata": {
    "colab_type": "text",
    "id": "FJ1AFt90VqAP"
   },
   "source": [
    "# 26. Какие фильмы входят в 1 процент лучших по рейтингу? \n",
    "по vote_average"
   ]
  },
  {
   "cell_type": "code",
   "execution_count": 0,
   "metadata": {
    "colab": {},
    "colab_type": "code",
    "id": "8qmJVq4CVqAQ"
   },
   "outputs": [],
   "source": []
  },
  {
   "cell_type": "markdown",
   "metadata": {
    "colab_type": "text",
    "id": "MdXsUXbCVqAV"
   },
   "source": [
    "# 27. Какие актеры чаще всего снимаются в одном фильме вместе?\n"
   ]
  },
  {
   "cell_type": "markdown",
   "metadata": {
    "colab_type": "text",
    "id": "4ymnxEVoVqAW"
   },
   "source": [
    "ВАРИАНТ 2"
   ]
  },
  {
   "cell_type": "markdown",
   "metadata": {
    "colab_type": "text",
    "id": "U0nONFnGVqAX"
   },
   "source": [
    "# Submission"
   ]
  },
  {
   "cell_type": "code",
   "execution_count": 0,
   "metadata": {
    "colab": {},
    "colab_type": "code",
    "id": "IfcaRO9-VqAX",
    "outputId": "0f132912-32bb-4196-c98c-abfbc4ad5a5f"
   },
   "outputs": [
    {
     "data": {
      "text/plain": [
       "{'1': '...', '2': '...'}"
      ]
     },
     "execution_count": 8,
     "metadata": {
      "tags": []
     },
     "output_type": "execute_result"
    }
   ],
   "source": [
    "# в конце можно посмотреть свои ответы к каждому вопросу\n",
    "answers"
   ]
  },
  {
   "cell_type": "code",
   "execution_count": 0,
   "metadata": {
    "colab": {},
    "colab_type": "code",
    "id": "SiRmHPl8VqAd"
   },
   "outputs": [],
   "source": [
    "# и убедиться что ни чего не пропустил)\n",
    "len(answers)"
   ]
  },
  {
   "cell_type": "code",
   "execution_count": 0,
   "metadata": {
    "colab": {},
    "colab_type": "code",
    "id": "uCfuTkRbVqAg"
   },
   "outputs": [],
   "source": []
  },
  {
   "cell_type": "code",
   "execution_count": 0,
   "metadata": {
    "colab": {},
    "colab_type": "code",
    "id": "Vwx3NrkSVqAl"
   },
   "outputs": [],
   "source": []
  }
 ],
 "metadata": {
  "colab": {
   "name": "Copy of [SF-DST] Movies IMBD v4.1 TEMPLATE.ipynb",
   "provenance": []
  },
  "kernelspec": {
   "display_name": "Python 3",
   "language": "python",
   "name": "python3"
  },
  "language_info": {
   "codemirror_mode": {
    "name": "ipython",
    "version": 3
   },
   "file_extension": ".py",
   "mimetype": "text/x-python",
   "name": "python",
   "nbconvert_exporter": "python",
   "pygments_lexer": "ipython3",
   "version": "3.7.6"
  }
 },
 "nbformat": 4,
 "nbformat_minor": 1
}
